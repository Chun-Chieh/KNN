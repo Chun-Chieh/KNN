{
 "cells": [
  {
   "cell_type": "code",
   "execution_count": 30,
   "metadata": {
    "scrolled": false
   },
   "outputs": [
    {
     "name": "stdout",
     "output_type": "stream",
     "text": [
      "Train set: 91\n",
      "Test set: 59\n",
      "[[4.6, 3.2, 1.4, 0.2, 'Iris-setosa'], [4.7, 3.2, 1.6, 0.2, 'Iris-setosa']]\n",
      "[[5.7, 3.8, 1.7, 0.3, 'Iris-setosa'], [5.1, 3.7, 1.5, 0.4, 'Iris-setosa']]\n",
      "[[4.6, 3.2, 1.4, 0.2, 'Iris-setosa'], [4.7, 3.2, 1.3, 0.2, 'Iris-setosa']]\n",
      "[[4.4, 3.0, 1.3, 0.2, 'Iris-setosa'], [4.6, 3.2, 1.4, 0.2, 'Iris-setosa']]\n",
      "[[5.2, 3.5, 1.5, 0.2, 'Iris-setosa'], [5.5, 3.5, 1.3, 0.2, 'Iris-setosa']]\n",
      "[[4.9, 3.0, 1.4, 0.2, 'Iris-setosa'], [4.9, 3.1, 1.5, 0.1, 'Iris-setosa']]\n",
      "[[4.4, 3.0, 1.3, 0.2, 'Iris-setosa'], [4.6, 3.2, 1.4, 0.2, 'Iris-setosa']]\n",
      "[[5.5, 4.2, 1.4, 0.2, 'Iris-setosa'], [5.1, 3.7, 1.5, 0.4, 'Iris-setosa']]\n",
      "[[5.1, 3.7, 1.5, 0.4, 'Iris-setosa'], [5.0, 3.6, 1.4, 0.2, 'Iris-setosa']]\n",
      "[[5.0, 3.4, 1.6, 0.4, 'Iris-setosa'], [5.0, 3.5, 1.6, 0.6, 'Iris-setosa']]\n",
      "[[4.8, 3.4, 1.6, 0.2, 'Iris-setosa'], [4.7, 3.2, 1.6, 0.2, 'Iris-setosa']]\n",
      "[[4.9, 3.1, 1.5, 0.1, 'Iris-setosa'], [4.9, 3.1, 1.5, 0.1, 'Iris-setosa']]\n",
      "[[5.5, 4.2, 1.4, 0.2, 'Iris-setosa'], [5.1, 3.7, 1.5, 0.4, 'Iris-setosa']]\n",
      "[[5.0, 3.3, 1.4, 0.2, 'Iris-setosa'], [4.9, 3.0, 1.4, 0.2, 'Iris-setosa']]\n",
      "[[4.9, 3.1, 1.5, 0.1, 'Iris-setosa'], [4.9, 3.1, 1.5, 0.1, 'Iris-setosa']]\n",
      "[[5.1, 3.5, 1.4, 0.3, 'Iris-setosa'], [5.1, 3.5, 1.4, 0.2, 'Iris-setosa']]\n",
      "[[4.4, 3.0, 1.3, 0.2, 'Iris-setosa'], [4.6, 3.2, 1.4, 0.2, 'Iris-setosa']]\n",
      "[[5.1, 3.7, 1.5, 0.4, 'Iris-setosa'], [5.0, 3.5, 1.6, 0.6, 'Iris-setosa']]\n",
      "[[4.9, 3.0, 1.4, 0.2, 'Iris-setosa'], [4.8, 3.1, 1.6, 0.2, 'Iris-setosa']]\n",
      "[[5.1, 3.7, 1.5, 0.4, 'Iris-setosa'], [5.0, 3.6, 1.4, 0.2, 'Iris-setosa']]\n",
      "[[5.2, 3.5, 1.5, 0.2, 'Iris-setosa'], [5.1, 3.7, 1.5, 0.4, 'Iris-setosa']]\n",
      "[[6.7, 3.1, 4.7, 1.5, 'Iris-versicolor'], [6.7, 3.1, 4.4, 1.4, 'Iris-versicolor']]\n",
      "[[6.3, 3.3, 4.7, 1.6, 'Iris-versicolor'], [6.6, 3.0, 4.4, 1.4, 'Iris-versicolor']]\n",
      "[[6.7, 3.1, 4.7, 1.5, 'Iris-versicolor'], [6.6, 2.9, 4.6, 1.3, 'Iris-versicolor']]\n",
      "[[5.5, 2.5, 4.0, 1.3, 'Iris-versicolor'], [5.5, 2.4, 3.8, 1.1, 'Iris-versicolor']]\n",
      "[[5.1, 2.5, 3.0, 1.1, 'Iris-versicolor'], [5.0, 2.0, 3.5, 1.0, 'Iris-versicolor']]\n",
      "[[5.7, 2.9, 4.2, 1.3, 'Iris-versicolor'], [6.0, 2.9, 4.5, 1.5, 'Iris-versicolor']]\n",
      "[[5.8, 2.7, 3.9, 1.2, 'Iris-versicolor'], [5.7, 2.6, 3.5, 1.0, 'Iris-versicolor']]\n",
      "[[6.3, 2.3, 4.4, 1.3, 'Iris-versicolor'], [6.3, 2.5, 4.9, 1.5, 'Iris-versicolor']]\n",
      "[[5.5, 2.4, 3.8, 1.1, 'Iris-versicolor'], [5.5, 2.5, 4.0, 1.3, 'Iris-versicolor']]\n",
      "[[6.6, 2.9, 4.6, 1.3, 'Iris-versicolor'], [6.7, 3.1, 4.7, 1.5, 'Iris-versicolor']]\n",
      "[[6.7, 3.1, 4.7, 1.5, 'Iris-versicolor'], [6.3, 2.8, 5.1, 1.5, 'Iris-virginica']]\n",
      "[[5.5, 2.4, 3.8, 1.1, 'Iris-versicolor'], [5.7, 2.6, 3.5, 1.0, 'Iris-versicolor']]\n",
      "[[5.6, 2.7, 4.2, 1.3, 'Iris-versicolor'], [5.7, 2.8, 4.5, 1.3, 'Iris-versicolor']]\n",
      "[[6.1, 2.9, 4.7, 1.4, 'Iris-versicolor'], [6.0, 2.9, 4.5, 1.5, 'Iris-versicolor']]\n",
      "[[5.0, 2.0, 3.5, 1.0, 'Iris-versicolor'], [5.1, 2.5, 3.0, 1.1, 'Iris-versicolor']]\n",
      "[[5.7, 2.9, 4.2, 1.3, 'Iris-versicolor'], [5.6, 3.0, 4.1, 1.3, 'Iris-versicolor']]\n",
      "[[6.4, 2.8, 5.6, 2.2, 'Iris-virginica'], [6.7, 3.1, 5.6, 2.4, 'Iris-virginica']]\n",
      "[[7.4, 2.8, 6.1, 1.9, 'Iris-virginica'], [7.6, 3.0, 6.6, 2.1, 'Iris-virginica']]\n",
      "[[6.4, 3.2, 5.3, 2.3, 'Iris-virginica'], [6.7, 3.0, 5.2, 2.3, 'Iris-virginica']]\n",
      "[[6.4, 3.1, 5.5, 1.8, 'Iris-virginica'], [6.3, 2.9, 5.6, 1.8, 'Iris-virginica']]\n",
      "[[7.9, 3.8, 6.4, 2.0, 'Iris-virginica'], [7.6, 3.0, 6.6, 2.1, 'Iris-virginica']]\n",
      "[[7.6, 3.0, 6.6, 2.1, 'Iris-virginica'], [7.7, 3.0, 6.1, 2.3, 'Iris-virginica']]\n",
      "[[6.3, 2.5, 4.9, 1.5, 'Iris-versicolor'], [6.0, 2.7, 5.1, 1.6, 'Iris-versicolor']]\n",
      "[[5.8, 2.7, 5.1, 1.9, 'Iris-virginica'], [5.8, 2.7, 5.1, 1.9, 'Iris-virginica']]\n",
      "[[7.6, 3.0, 6.6, 2.1, 'Iris-virginica'], [7.4, 2.8, 6.1, 1.9, 'Iris-virginica']]\n",
      "[[6.1, 3.0, 4.9, 1.8, 'Iris-virginica'], [6.3, 2.5, 4.9, 1.5, 'Iris-versicolor']]\n",
      "[[6.9, 3.2, 5.7, 2.3, 'Iris-virginica'], [6.8, 3.2, 5.9, 2.3, 'Iris-virginica']]\n",
      "[[7.2, 3.0, 5.8, 1.6, 'Iris-virginica'], [7.1, 3.0, 5.9, 2.1, 'Iris-virginica']]\n",
      "[[6.1, 3.0, 4.9, 1.8, 'Iris-virginica'], [6.0, 2.7, 5.1, 1.6, 'Iris-versicolor']]\n",
      "[[6.4, 2.8, 5.6, 2.2, 'Iris-virginica'], [6.3, 2.9, 5.6, 1.8, 'Iris-virginica']]\n",
      "[[6.3, 2.9, 5.6, 1.8, 'Iris-virginica'], [6.0, 2.7, 5.1, 1.6, 'Iris-versicolor']]\n",
      "[[6.4, 3.2, 5.3, 2.3, 'Iris-virginica'], [6.3, 3.3, 6.0, 2.5, 'Iris-virginica']]\n",
      "[[6.1, 3.0, 4.9, 1.8, 'Iris-virginica'], [5.9, 3.2, 4.8, 1.8, 'Iris-versicolor']]\n",
      "[[6.8, 3.0, 5.5, 2.1, 'Iris-virginica'], [6.7, 3.0, 5.2, 2.3, 'Iris-virginica']]\n",
      "[[6.7, 3.1, 5.6, 2.4, 'Iris-virginica'], [6.9, 3.2, 5.7, 2.3, 'Iris-virginica']]\n",
      "[[6.4, 2.7, 5.3, 1.9, 'Iris-virginica'], [6.3, 2.5, 4.9, 1.5, 'Iris-versicolor']]\n",
      "[[6.4, 2.7, 5.3, 1.9, 'Iris-virginica'], [6.7, 3.0, 5.2, 2.3, 'Iris-virginica']]\n",
      "[[6.4, 3.2, 5.3, 2.3, 'Iris-virginica'], [6.7, 3.1, 5.6, 2.4, 'Iris-virginica']]\n",
      "Accuracy: 89.83050847457628%\n"
     ]
    }
   ],
   "source": [
    "# ref: http://machinelearningmastery.com/tutorial-to-implement-k-nearest-neighbors-in-python-from-scratch/\n",
    "import csv\n",
    "import random\n",
    "import math\n",
    "import operator\n",
    " \n",
    "def loadDataset(filename, split, trainingSet=[] , testSet=[]):\n",
    "    with open(filename,'rt') as csvfile:\n",
    "        lines = csv.reader(csvfile)\n",
    "        dataset = list(lines)\n",
    "        for x in range(len(dataset)-1):\n",
    "            for y in range(4):\n",
    "                dataset[x][y] = float(dataset[x][y])\n",
    "            if random.random() < split:\n",
    "                trainingSet.append(dataset[x])\n",
    "            else:\n",
    "                testSet.append(dataset[x])\n",
    " \n",
    " \n",
    "def euclideanDistance(instance1, instance2, length):\n",
    "    distance = 0\n",
    "    for x in range(length):\n",
    "        distance += pow((instance1[x] - instance2[x]), 2)\n",
    "    return math.sqrt(distance)\n",
    " \n",
    "def getNeighbors(trainingSet, testInstance, k):\n",
    "    distances = []\n",
    "    length = len(testInstance)-1\n",
    "    for x in range(len(trainingSet)):\n",
    "        dist = euclideanDistance(testInstance, trainingSet[x], length)\n",
    "        distances.append((trainingSet[x], dist))\n",
    "    distances.sort(key=operator.itemgetter(1))\n",
    "    neighbors = []\n",
    "    for x in range(k):\n",
    "        neighbors.append(distances[x][0])\n",
    "    return neighbors\n",
    " \n",
    "def getResponse(neighbors):\n",
    "    classVotes = {}\n",
    "    for x in range(len(neighbors)):\n",
    "        response = neighbors[x][-1]\n",
    "        if response in classVotes:\n",
    "            classVotes[response] += 1\n",
    "        else:\n",
    "            classVotes[response] = 1\n",
    "    sortedVotes = sorted(classVotes.items(), key=operator.itemgetter(1), reverse=True)\n",
    "    return sortedVotes[0][0]\n",
    " \n",
    "def getAccuracy(testSet, predictions):\n",
    "    correct = 0\n",
    "    for x in range(len(testSet)):\n",
    "        if testSet[x][-1] == predictions[x]:\n",
    "            correct += 1\n",
    "    return (correct/float(len(testSet))) * 100.0\n",
    "\n",
    "def main():\n",
    "# prepare data\n",
    "    trainingSet=[]\n",
    "    testSet=[]\n",
    "    split = 0.67\n",
    "    loadDataset('iris.data', split, trainingSet, testSet)\n",
    "    print ('Train set: ' + repr(len(trainingSet)))\n",
    "    print ('Test set: ' + repr(len(testSet)))\n",
    "    # generate predictions\n",
    "    predictions=[]\n",
    "    k = 2\n",
    "    for x in range(len(testSet)):\n",
    "        neighbors = getNeighbors(trainingSet, testSet[x], k)\n",
    "        #print(x, testSet[x])\n",
    "        #print(neighbors)\n",
    "        result = getResponse(neighbors)\n",
    "        predictions.append(result)\n",
    "        #print('> predicted=' + repr(result) + ', actual=' + repr(testSet[x][-1]))\n",
    "    accuracy = getAccuracy(testSet, predictions)\n",
    "    print('Accuracy: ' + repr(accuracy) + '%')\n",
    "    \n",
    "main()"
   ]
  },
  {
   "cell_type": "code",
   "execution_count": null,
   "metadata": {
    "collapsed": true
   },
   "outputs": [],
   "source": []
  },
  {
   "cell_type": "code",
   "execution_count": 29,
   "metadata": {},
   "outputs": [
    {
     "name": "stdout",
     "output_type": "stream",
     "text": [
      "[2, 4, 5, 2, 3, 2]\n"
     ]
    }
   ],
   "source": [
    "l = [2,4,5,2,3,2]\n",
    "print(l[:])"
   ]
  },
  {
   "cell_type": "code",
   "execution_count": null,
   "metadata": {
    "collapsed": true
   },
   "outputs": [],
   "source": []
  }
 ],
 "metadata": {
  "kernelspec": {
   "display_name": "Python 3",
   "language": "python",
   "name": "python3"
  },
  "language_info": {
   "codemirror_mode": {
    "name": "ipython",
    "version": 3
   },
   "file_extension": ".py",
   "mimetype": "text/x-python",
   "name": "python",
   "nbconvert_exporter": "python",
   "pygments_lexer": "ipython3",
   "version": "3.5.2"
  }
 },
 "nbformat": 4,
 "nbformat_minor": 2
}
